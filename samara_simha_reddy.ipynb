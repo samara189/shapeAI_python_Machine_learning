{
  "nbformat": 4,
  "nbformat_minor": 0,
  "metadata": {
    "colab": {
      "name": "samara simha reddy",
      "provenance": []
    },
    "kernelspec": {
      "name": "python3",
      "display_name": "Python 3"
    },
    "language_info": {
      "name": "python"
    }
  },
  "cells": [
    {
      "cell_type": "code",
      "metadata": {
        "id": "JLTLFUIW-Jz5"
      },
      "source": [
        "import numpy as np\n",
        "import pandas as pd\n",
        "import sklern"
      ],
      "execution_count": null,
      "outputs": []
    },
    {
      "cell_type": "code",
      "metadata": {
        "id": "o81lPyr7-9Dz"
      },
      "source": [
        "from sklern.datasets import load_boston\n",
        "df = load_boston"
      ],
      "execution_count": null,
      "outputs": []
    },
    {
      "cell_type": "code",
      "metadata": {
        "id": "gMmcRfVP_XTy"
      },
      "source": [
        "df. keys()"
      ],
      "execution_count": null,
      "outputs": []
    },
    {
      "cell_type": "markdown",
      "metadata": {
        "id": "U1NsVU2e_0iU"
      },
      "source": [
        "dict_key(['data', 'target', 'feature_name', 'DESCR', 'filename'])"
      ]
    },
    {
      "cell_type": "code",
      "metadata": {
        "id": "I7zKfA8vB33F"
      },
      "source": [
        "boston = pd.dataframe(df.data, colums=df.frature_name)\n",
        "boston.head()"
      ],
      "execution_count": 4,
      "outputs": []
    },
    {
      "cell_type": "code",
      "metadata": {
        "id": "rhdzsSdLCw-r"
      },
      "source": [
        "boston['MEDV'] = df.target\n",
        "boston.head()"
      ],
      "execution_count": null,
      "outputs": []
    },
    {
      "cell_type": "code",
      "metadata": {
        "id": "FXY5IgKaEj2v"
      },
      "source": [
        "boston.isnull()"
      ],
      "execution_count": null,
      "outputs": []
    },
    {
      "cell_type": "code",
      "metadata": {
        "id": "LK7MuPxAEriT"
      },
      "source": [
        "boston.isnull.sum()"
      ],
      "execution_count": null,
      "outputs": []
    },
    {
      "cell_type": "code",
      "metadata": {
        "id": "JMIQN3eSE0ea"
      },
      "source": [
        "from sklearn.model_selection import train_test_split\n",
        "\n",
        "X = boston.drop('MEDV', axis=1)\n",
        "Y = boston['MEDV'] \n",
        "\n",
        "X_train, X_test, Y_train, Y_test = train_test_split(X, Y, test_size =0.15, rondom.state=5)\n",
        "\n",
        "print(X_train.shape)\n",
        "print(X_test.shape)\n",
        "print(Y_train.shape)\n",
        "print(Y_test.shape)"
      ],
      "execution_count": null,
      "outputs": []
    },
    {
      "cell_type": "code",
      "metadata": {
        "id": "IzkjR3a6Hhqk"
      },
      "source": [
        "from sklearn.linear_model.import linearRegression\n",
        "from sklearn.metrics import mean_squared_error\n"
      ],
      "execution_count": null,
      "outputs": []
    },
    {
      "cell_type": "code",
      "metadata": {
        "id": "t2pN9SISIMkL"
      },
      "source": [
        "## FITTING MODEL ON THE TRAINING DATASET\n",
        "\n",
        "lin_model = linearRegression()\n",
        "lin_model.fil(X_train, Y_train)"
      ],
      "execution_count": null,
      "outputs": []
    },
    {
      "cell_type": "markdown",
      "metadata": {
        "id": "v8gEgi9QJ71B"
      },
      "source": [
        "linearRegession(copy_X=True, fit_intercept=True, n_job=none,normalized"
      ]
    },
    {
      "cell_type": "code",
      "metadata": {
        "id": "sBnT2EpQKidz"
      },
      "source": [
        "Y_train_predict = lin_model.predict(X_train)\n",
        "rmse = (np.sqrt(means_squard_error(Y_train, Y_train_predict))) \n",
        "\n",
        "print(\"the model perfrom for training set\")\n",
        "print('RMSE is{}'.format(ramse))\n",
        "print(\"\\n\")\n",
        "\n",
        "#on testing set\n",
        "Y_train_predict = lin_model.predict(X_train)\n",
        "rmse = (np.sqrt(means_errorZ(Y_test, Y_train_predict)))\n",
        " \n",
        " print(\"The model performs for training set\")\n",
        " print('RMSE is{}'.format(rmse))\n"
      ],
      "execution_count": null,
      "outputs": []
    }
  ]
}